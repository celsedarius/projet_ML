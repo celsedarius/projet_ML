{
 "cells": [
  {
   "cell_type": "markdown",
   "id": "d6752b0a",
   "metadata": {},
   "source": [
    "<h1 color=\"red\"> PROJET ML: mort survenu apres un arret cardiaque</h1>"
   ]
  },
  {
   "cell_type": "markdown",
   "id": "cb5294e2",
   "metadata": {},
   "source": [
    "<h3> Etudiants:\n",
    "<ul>\n",
    "    <li>SEREME Ousmane</li>\n",
    "    <li>ZONGO Celse Darius P</li>\n",
    "    <li>ZONGO Rasmane</li>\n",
    "</ul>\n",
    "</h3>\n",
    " \n",
    " "
   ]
  },
  {
   "cell_type": "raw",
   "id": "69eb4f3f",
   "metadata": {},
   "source": [
    "Les maladies cardiovasculaires (MCV) sont la première cause de décès dans le monde. On estime qu'elles font 17,9 millions de victimes chaque année, ce qui représente 31 % de tous les décès dans le monde.\n",
    "L'insuffisance cardiaque est un événement courant causé par les MCV et cet ensemble de données contient 12 caractéristiques qui peuvent être utilisées pour prédire la mortalité par insuffisance cardiaque.\n",
    "\n",
    "La plupart des maladies cardiovasculaires peuvent être évitées en s'attaquant aux facteurs de risque comportementaux tels que le tabagisme, une alimentation malsaine et l'obésité, l'inactivité physique et la consommation nocive d'alcool, au moyen de stratégies à l'échelle de la population.\n",
    "\n",
    "Les personnes atteintes d'une maladie cardiovasculaire ou présentant un risque cardiovasculaire élevé (en raison de la présence d'un ou plusieurs facteurs de risque tels que l'hypertension, le diabète, l'hyperlipidémie ou une maladie déjà établie) ont besoin d'une détection et d'une prise en charge précoces, pour lesquelles un modèle d'apprentissage automatique peut être d'une grande utilité."
   ]
  },
  {
   "cell_type": "markdown",
   "id": "7d60ae8d",
   "metadata": {},
   "source": [
    "## IMPORT"
   ]
  },
  {
   "cell_type": "code",
   "execution_count": 1,
   "id": "c148a528",
   "metadata": {},
   "outputs": [],
   "source": [
    "import numpy as np\n",
    "import matplotlib.pyplot as plt\n",
    "import pandas as pd\n",
    "import matplotlib.pyplot as plt\n",
    "import seaborn as sns\n",
    "%matplotlib inline\n",
    "\n",
    "from pyspark.sql import SparkSession\n",
    "from pyspark import SparkContext\n",
    "from pyspark.ml.classification import LogisticRegression\n",
    "from pyspark.ml.evaluation import BinaryClassificationEvaluator ,MulticlassClassificationEvaluator\n",
    "from pyspark.ml.feature import VectorAssembler, StandardScaler\n",
    "from pyspark.mllib.util import MLUtils\n",
    "from pyspark.mllib.evaluation import MulticlassMetrics\n",
    "\n",
    "\n",
    "from sklearn.metrics import roc_curve, auc\n",
    "from sklearn.metrics import log_loss\n",
    "\n",
    "\n",
    "\n",
    "sc = SparkContext.getOrCreate()\n",
    "#Create object of spark session\n",
    "\n",
    "spark = SparkSession.builder.appName('ml-projet-pipeline').getOrCreate()"
   ]
  },
  {
   "cell_type": "markdown",
   "id": "dc829775",
   "metadata": {},
   "source": [
    "### import dataset"
   ]
  },
  {
   "cell_type": "code",
   "execution_count": 2,
   "id": "2e63f9a7",
   "metadata": {},
   "outputs": [
    {
     "data": {
      "text/html": [
       "<div>\n",
       "<style scoped>\n",
       "    .dataframe tbody tr th:only-of-type {\n",
       "        vertical-align: middle;\n",
       "    }\n",
       "\n",
       "    .dataframe tbody tr th {\n",
       "        vertical-align: top;\n",
       "    }\n",
       "\n",
       "    .dataframe thead th {\n",
       "        text-align: right;\n",
       "    }\n",
       "</style>\n",
       "<table border=\"1\" class=\"dataframe\">\n",
       "  <thead>\n",
       "    <tr style=\"text-align: right;\">\n",
       "      <th></th>\n",
       "      <th>age</th>\n",
       "      <th>anaemia</th>\n",
       "      <th>creatinine_phosphokinase</th>\n",
       "      <th>diabetes</th>\n",
       "      <th>ejection_fraction</th>\n",
       "      <th>high_blood_pressure</th>\n",
       "      <th>platelets</th>\n",
       "      <th>serum_creatinine</th>\n",
       "      <th>serum_sodium</th>\n",
       "      <th>sex</th>\n",
       "      <th>smoking</th>\n",
       "      <th>time</th>\n",
       "      <th>DEATH_EVENT</th>\n",
       "    </tr>\n",
       "  </thead>\n",
       "  <tbody>\n",
       "    <tr>\n",
       "      <th>0</th>\n",
       "      <td>75.0</td>\n",
       "      <td>0</td>\n",
       "      <td>582</td>\n",
       "      <td>0</td>\n",
       "      <td>20</td>\n",
       "      <td>1</td>\n",
       "      <td>265000.00</td>\n",
       "      <td>1.9</td>\n",
       "      <td>130</td>\n",
       "      <td>1</td>\n",
       "      <td>0</td>\n",
       "      <td>4</td>\n",
       "      <td>1</td>\n",
       "    </tr>\n",
       "    <tr>\n",
       "      <th>1</th>\n",
       "      <td>55.0</td>\n",
       "      <td>0</td>\n",
       "      <td>7861</td>\n",
       "      <td>0</td>\n",
       "      <td>38</td>\n",
       "      <td>0</td>\n",
       "      <td>263358.03</td>\n",
       "      <td>1.1</td>\n",
       "      <td>136</td>\n",
       "      <td>1</td>\n",
       "      <td>0</td>\n",
       "      <td>6</td>\n",
       "      <td>1</td>\n",
       "    </tr>\n",
       "    <tr>\n",
       "      <th>2</th>\n",
       "      <td>65.0</td>\n",
       "      <td>0</td>\n",
       "      <td>146</td>\n",
       "      <td>0</td>\n",
       "      <td>20</td>\n",
       "      <td>0</td>\n",
       "      <td>162000.00</td>\n",
       "      <td>1.3</td>\n",
       "      <td>129</td>\n",
       "      <td>1</td>\n",
       "      <td>1</td>\n",
       "      <td>7</td>\n",
       "      <td>1</td>\n",
       "    </tr>\n",
       "    <tr>\n",
       "      <th>3</th>\n",
       "      <td>50.0</td>\n",
       "      <td>1</td>\n",
       "      <td>111</td>\n",
       "      <td>0</td>\n",
       "      <td>20</td>\n",
       "      <td>0</td>\n",
       "      <td>210000.00</td>\n",
       "      <td>1.9</td>\n",
       "      <td>137</td>\n",
       "      <td>1</td>\n",
       "      <td>0</td>\n",
       "      <td>7</td>\n",
       "      <td>1</td>\n",
       "    </tr>\n",
       "    <tr>\n",
       "      <th>4</th>\n",
       "      <td>65.0</td>\n",
       "      <td>1</td>\n",
       "      <td>160</td>\n",
       "      <td>1</td>\n",
       "      <td>20</td>\n",
       "      <td>0</td>\n",
       "      <td>327000.00</td>\n",
       "      <td>2.7</td>\n",
       "      <td>116</td>\n",
       "      <td>0</td>\n",
       "      <td>0</td>\n",
       "      <td>8</td>\n",
       "      <td>1</td>\n",
       "    </tr>\n",
       "  </tbody>\n",
       "</table>\n",
       "</div>"
      ],
      "text/plain": [
       "    age  anaemia  creatinine_phosphokinase  diabetes  ejection_fraction  \\\n",
       "0  75.0        0                       582         0                 20   \n",
       "1  55.0        0                      7861         0                 38   \n",
       "2  65.0        0                       146         0                 20   \n",
       "3  50.0        1                       111         0                 20   \n",
       "4  65.0        1                       160         1                 20   \n",
       "\n",
       "   high_blood_pressure  platelets  serum_creatinine  serum_sodium  sex  \\\n",
       "0                    1  265000.00               1.9           130    1   \n",
       "1                    0  263358.03               1.1           136    1   \n",
       "2                    0  162000.00               1.3           129    1   \n",
       "3                    0  210000.00               1.9           137    1   \n",
       "4                    0  327000.00               2.7           116    0   \n",
       "\n",
       "   smoking  time  DEATH_EVENT  \n",
       "0        0     4            1  \n",
       "1        0     6            1  \n",
       "2        1     7            1  \n",
       "3        0     7            1  \n",
       "4        0     8            1  "
      ]
     },
     "execution_count": 2,
     "metadata": {},
     "output_type": "execute_result"
    }
   ],
   "source": [
    "#Read the csv file\n",
    "df=spark.read.csv('data/heart_failure_clinical_records_dataset.csv',inferSchema=True,header=True)\n",
    "df.toPandas().head()"
   ]
  },
  {
   "cell_type": "markdown",
   "id": "212a0dc6",
   "metadata": {},
   "source": [
    "# DATASET EXPLORATION"
   ]
  },
  {
   "cell_type": "code",
   "execution_count": 3,
   "id": "aa7a4766",
   "metadata": {},
   "outputs": [
    {
     "data": {
      "text/plain": [
       "Text(0.5, 1.0, 'Correlation Matrix')"
      ]
     },
     "execution_count": 3,
     "metadata": {},
     "output_type": "execute_result"
    },
    {
     "data": {
      "image/png": "[encoded data removed]",
      "text/plain": [
       "<Figure size 1440x1440 with 1 Axes>"
      ]
     },
     "metadata": {
      "needs_background": "light"
     },
     "output_type": "display_data"
    }
   ],
   "source": [
    "plt.figure(figsize=(20, 20))\n",
    "sns.heatmap(df.toPandas().corr(), annot=True, cmap='rainbow',\n",
    "            cbar=False, linewidth=0.5, fmt='.2f')\n",
    "plt.title('Correlation Matrix')"
   ]
  },
  {
   "cell_type": "code",
   "execution_count": 4,
   "id": "46d3fda2",
   "metadata": {},
   "outputs": [
    {
     "name": "stdout",
     "output_type": "stream",
     "text": [
      "DEATH_EVENT                 1.000000\n",
      "time                        0.526964\n",
      "serum_creatinine            0.294278\n",
      "ejection_fraction           0.268603\n",
      "age                         0.253729\n",
      "serum_sodium                0.195204\n",
      "high_blood_pressure         0.079351\n",
      "anaemia                     0.066270\n",
      "creatinine_phosphokinase    0.062728\n",
      "platelets                   0.049139\n",
      "smoking                     0.012623\n",
      "sex                         0.004316\n",
      "diabetes                    0.001943\n",
      "Name: DEATH_EVENT, dtype: float64\n"
     ]
    }
   ],
   "source": [
    "print(df.toPandas().corr()[\"DEATH_EVENT\"].abs().sort_values(ascending=False))"
   ]
  },
  {
   "cell_type": "code",
   "execution_count": 5,
   "id": "1bffe173",
   "metadata": {},
   "outputs": [
    {
     "data": {
      "text/plain": [
       "<AxesSubplot:xlabel='sex', ylabel='count'>"
      ]
     },
     "execution_count": 5,
     "metadata": {},
     "output_type": "execute_result"
    },
    {
     "data": {
      "image/png": "[encoded data removed]",
      "text/plain": [
       "<Figure size 432x288 with 1 Axes>"
      ]
     },
     "metadata": {
      "needs_background": "light"
     },
     "output_type": "display_data"
    }
   ],
   "source": [
    "sns.countplot(x='sex', data=df.toPandas())"
   ]
  },
  {
   "cell_type": "markdown",
   "id": "a302dd1a",
   "metadata": {},
   "source": [
    "la majorite des sujets est masculin"
   ]
  },
  {
   "cell_type": "code",
   "execution_count": 6,
   "id": "2d49d86b",
   "metadata": {},
   "outputs": [
    {
     "data": {
      "text/plain": [
       "<AxesSubplot:xlabel='age', ylabel='count'>"
      ]
     },
     "execution_count": 6,
     "metadata": {},
     "output_type": "execute_result"
    },
    {
     "data": {
      "image/png": "[encoded data removed]",
      "text/plain": [
       "<Figure size 432x288 with 1 Axes>"
      ]
     },
     "metadata": {
      "needs_background": "light"
     },
     "output_type": "display_data"
    }
   ],
   "source": [
    "sns.countplot(x='age', data=df.toPandas())"
   ]
  },
  {
   "cell_type": "markdown",
   "id": "d9fe9d8e",
   "metadata": {},
   "source": [
    "# Preparation des donnees"
   ]
  },
  {
   "cell_type": "code",
   "execution_count": 7,
   "id": "bec61c96",
   "metadata": {},
   "outputs": [
    {
     "name": "stdout",
     "output_type": "stream",
     "text": [
      "age column has 0 missing values\n",
      "\n",
      "anaemia column has 0 missing values\n",
      "\n",
      "creatinine_phosphokinase column has 0 missing values\n",
      "\n",
      "diabetes column has 0 missing values\n",
      "\n",
      "ejection_fraction column has 0 missing values\n",
      "\n",
      "high_blood_pressure column has 0 missing values\n",
      "\n",
      "platelets column has 0 missing values\n",
      "\n",
      "serum_creatinine column has 0 missing values\n",
      "\n",
      "serum_sodium column has 0 missing values\n",
      "\n",
      "sex column has 0 missing values\n",
      "\n",
      "smoking column has 0 missing values\n",
      "\n",
      "time column has 0 missing values\n",
      "\n",
      "DEATH_EVENT column has 0 missing values\n",
      "\n"
     ]
    }
   ],
   "source": [
    "for c in df.columns:\n",
    "    count=df.filter(c+\" is   NULL\" or c+\"is ''\" or c+\"is  NaN\" or c+\"is  null\").count()\n",
    "    print(c+\" column has \"+ str(count) +\" missing values\\n\")"
   ]
  },
  {
   "cell_type": "markdown",
   "id": "a91ecf0b",
   "metadata": {},
   "source": [
    "aucune valeur manquante, donc pas besoin d'imputer des donnees"
   ]
  },
  {
   "cell_type": "code",
   "execution_count": 8,
   "id": "e6160e31",
   "metadata": {},
   "outputs": [
    {
     "data": {
      "text/plain": [
       "['age',\n",
       " 'anaemia',\n",
       " 'creatinine_phosphokinase',\n",
       " 'diabetes',\n",
       " 'ejection_fraction',\n",
       " 'high_blood_pressure',\n",
       " 'platelets',\n",
       " 'serum_creatinine',\n",
       " 'serum_sodium',\n",
       " 'sex',\n",
       " 'smoking',\n",
       " 'time']"
      ]
     },
     "execution_count": 8,
     "metadata": {},
     "output_type": "execute_result"
    }
   ],
   "source": [
    "#colonne a vectoriser\n",
    "col = [col for col in df.columns if col!= 'DEATH_EVENT'  ]\n",
    "col"
   ]
  },
  {
   "cell_type": "code",
   "execution_count": 9,
   "id": "e5f2df9f",
   "metadata": {},
   "outputs": [],
   "source": [
    "df= df.withColumnRenamed(\"DEATH_EVENT\",\"label\")"
   ]
  },
  {
   "cell_type": "code",
   "execution_count": 10,
   "id": "e810b5ee",
   "metadata": {},
   "outputs": [
    {
     "name": "stdout",
     "output_type": "stream",
     "text": [
      "+--------------------+-----+\n",
      "|            features|label|\n",
      "+--------------------+-----+\n",
      "|[6.30527144514296...|    1|\n",
      "|[4.62386572643817...|    1|\n",
      "|[5.46456858579056...|    1|\n",
      "|[4.20351429676197...|    1|\n",
      "|[5.46456858579056...|    1|\n",
      "+--------------------+-----+\n",
      "only showing top 5 rows\n",
      "\n"
     ]
    }
   ],
   "source": [
    "## pipeline, on vectorise les donnees et on les echelonne\n",
    "\n",
    "\n",
    "va =  VectorAssembler().setInputCols(col).setOutputCol(\"features_to_be_scale\")\n",
    "\n",
    "df_feature = va.transform(df)\n",
    "\n",
    "scaler =  StandardScaler().setInputCol(\"features_to_be_scale\").setOutputCol(\"features\")\n",
    "scaled_df = scaler.fit(df_feature).transform(df_feature).select(\"features\", \"label\")\n",
    "\n",
    "scaled_df.show(5)"
   ]
  },
  {
   "cell_type": "markdown",
   "id": "8727d8dc",
   "metadata": {},
   "source": [
    "### division des donnees en test et donne d'entrainement"
   ]
  },
  {
   "cell_type": "code",
   "execution_count": 11,
   "id": "e0509bdc",
   "metadata": {},
   "outputs": [],
   "source": [
    "trainSet, testSet = scaled_df.randomSplit([0.7,0.3])"
   ]
  },
  {
   "cell_type": "markdown",
   "id": "11143c22",
   "metadata": {},
   "source": [
    "# REGRESSION LOGISTIQUE"
   ]
  },
  {
   "cell_type": "code",
   "execution_count": 12,
   "id": "f9893b59",
   "metadata": {},
   "outputs": [
    {
     "name": "stdout",
     "output_type": "stream",
     "text": [
      "+--------------------+-----+--------------------+--------------------+----------+\n",
      "|            features|label|       rawPrediction|         probability|prediction|\n",
      "+--------------------+-----+--------------------+--------------------+----------+\n",
      "|[3.36281143740957...|  0.0|[4.65679695602764...|[0.99059250885823...|       0.0|\n",
      "|[3.36281143740957...|  0.0|[2.57252399930145...|[0.92907220024836...|       0.0|\n",
      "|[3.36281143740957...|  0.0|[4.47521422282942...|[0.98874043908866...|       0.0|\n",
      "|[3.36281143740957...|  0.0|[5.09989911462878...|[0.99393959083744...|       0.0|\n",
      "|[3.36281143740957...|  0.0|[4.50850679062633...|[0.98910511062019...|       0.0|\n",
      "|[3.44688172334481...|  0.0|[2.60753581875824...|[0.93134500023136...|       0.0|\n",
      "|[3.53095200928005...|  0.0|[2.81173984284655...|[0.94330693597414...|       0.0|\n",
      "|[3.53095200928005...|  0.0|[5.76231536273965...|[0.99686602858283...|       0.0|\n",
      "|[3.53095200928005...|  0.0|[1.50845000633151...|[0.81883138425834...|       0.0|\n",
      "|[3.53095200928005...|  0.0|[3.10594052836082...|[0.95713712202638...|       0.0|\n",
      "|[3.53095200928005...|  0.0|[0.61473807315145...|[0.64902086152797...|       0.0|\n",
      "|[3.53095200928005...|  0.0|[4.67463340680170...|[0.99075728037928...|       0.0|\n",
      "|[3.61502229521529...|  0.0|[2.30274133448426...|[0.90910382078545...|       0.0|\n",
      "|[3.69909258115053...|  0.0|[2.05168687274374...|[0.88611795688641...|       0.0|\n",
      "|[3.78316286708577...|  0.0|[3.25696658411542...|[0.96292264173482...|       0.0|\n",
      "|[3.78316286708577...|  1.0|[-2.1995292363668...|[0.09979277181509...|       1.0|\n",
      "|[3.78316286708577...|  1.0|[1.82742764347706...|[0.86145500071025...|       0.0|\n",
      "|[3.78316286708577...|  0.0|[5.83633035827133...|[0.99708896223572...|       0.0|\n",
      "|[3.78316286708577...|  0.0|[4.00934500471424...|[0.98217810676320...|       0.0|\n",
      "|[3.78316286708577...|  0.0|[4.85651729592696...|[0.99228249945132...|       0.0|\n",
      "+--------------------+-----+--------------------+--------------------+----------+\n",
      "only showing top 20 rows\n",
      "\n",
      "+-----+----------+--------------------+\n",
      "|label|prediction|         probability|\n",
      "+-----+----------+--------------------+\n",
      "|    0|       0.0|[0.99192679531511...|\n",
      "|    0|       0.0|[0.98664561373396...|\n",
      "|    1|       1.0|[0.21236506363147...|\n",
      "|    0|       0.0|[0.98127800121149...|\n",
      "|    0|       0.0|[0.99704016529694...|\n",
      "+-----+----------+--------------------+\n",
      "only showing top 5 rows\n",
      "\n"
     ]
    }
   ],
   "source": [
    "\n",
    "lr= LogisticRegression(labelCol=\"label\")\n",
    "\n",
    "lr_model= lr.fit(trainSet)\n",
    "lr_result = lr_model.transform(testSet)\n",
    "log_summary=lr_model.summary\n",
    "log_summary.predictions.show()\n",
    "\n",
    "lr_result.select( 'label', 'prediction', 'probability').show(5)\n",
    "\n",
    "\n",
    "\n",
    "\n"
   ]
  },
  {
   "cell_type": "markdown",
   "id": "4e26a8a7",
   "metadata": {},
   "source": [
    "## evaluation"
   ]
  },
  {
   "cell_type": "code",
   "execution_count": 13,
   "id": "df734477",
   "metadata": {},
   "outputs": [
    {
     "name": "stdout",
     "output_type": "stream",
     "text": [
      "performance de la regression logistique\n",
      "Accuracy = 0.75\n",
      "Sensibilite = 0.55\n",
      "Specificite = 0.87\n",
      "Precision = 0.71\n",
      "AUC=0.85\n"
     ]
    }
   ],
   "source": [
    "lr_eval = BinaryClassificationEvaluator(rawPredictionCol=\"probability\", labelCol=\"label\")\n",
    "lr_eval2= MulticlassClassificationEvaluator(predictionCol=\"prediction\", labelCol=\"label\")\n",
    "lr_AUC  = lr_eval.evaluate(lr_result)\n",
    "lr_ACC  = lr_eval2.evaluate(lr_result, {lr_eval2.metricName:\"accuracy\"})\n",
    "\n",
    "\n",
    "\n",
    "\n",
    "\n",
    "PredAndLabels           = lr_result.select(\"probability\", \"label\")\n",
    "PredAndLabels_collect   = PredAndLabels.collect()\n",
    "PredAndLabels_list      = [(float(i[0][0]), 1.0-float(i[1])) for i in PredAndLabels_collect]\n",
    "PredAndLabels           = sc.parallelize(PredAndLabels_list)\n",
    "\n",
    "\n",
    "\n",
    "\n",
    "#confusion Matrix\n",
    "cm_lr_result = lr_result.crosstab(\"prediction\", \"label\")\n",
    "cm_lr_result = cm_lr_result.toPandas()\n",
    "cm_lr_result\n",
    "\n",
    "#calculate Accuracy, Sensitivity, Specificity, Precision\n",
    "TP = cm_lr_result[\"1\"][0]\n",
    "FP = cm_lr_result[\"0\"][0]\n",
    "TN = cm_lr_result[\"0\"][1]\n",
    "FN = cm_lr_result[\"1\"][1]\n",
    "Accuracy = (TP+TN)/(TP+FP+TN+FN)\n",
    "Sensitivity = TP/(TP+FN)\n",
    "Specificity = TN/(TN+FP)\n",
    "Precision = TP/(TP+FP)\n",
    "\n",
    "print(\"performance de la regression logistique\")\n",
    "print (\"Accuracy = %0.2f\" %Accuracy )\n",
    "print (\"Sensibilite = %0.2f\" %Sensitivity )\n",
    "print (\"Specificite = %0.2f\" %Specificity )\n",
    "print (\"Precision = %0.2f\" %Precision )\n",
    "print(\"AUC=%.2f\" % AUC)\n",
    "\n"
   ]
  },
  {
   "cell_type": "markdown",
   "id": "80615ee6",
   "metadata": {},
   "source": [
    "# Arbre de Choix"
   ]
  },
  {
   "cell_type": "code",
   "execution_count": 14,
   "id": "3ec8e541",
   "metadata": {},
   "outputs": [
    {
     "name": "stdout",
     "output_type": "stream",
     "text": [
      "+--------------------+-----+-------------+-------------+----------+\n",
      "|            features|label|rawPrediction|  probability|prediction|\n",
      "+--------------------+-----+-------------+-------------+----------+\n",
      "|[3.36281143740957...|    0|  [117.0,3.0]|[0.975,0.025]|       0.0|\n",
      "|[3.36281143740957...|    0|  [117.0,3.0]|[0.975,0.025]|       0.0|\n",
      "|[3.53095200928005...|    1|   [0.0,26.0]|    [0.0,1.0]|       1.0|\n",
      "|[3.69909258115053...|    0|  [117.0,3.0]|[0.975,0.025]|       0.0|\n",
      "|[3.78316286708577...|    0|  [117.0,3.0]|[0.975,0.025]|       0.0|\n",
      "|[3.78316286708577...|    1|    [4.0,0.0]|    [1.0,0.0]|       0.0|\n",
      "|[3.78316286708577...|    0|  [117.0,3.0]|[0.975,0.025]|       0.0|\n",
      "|[3.78316286708577...|    1|  [117.0,3.0]|[0.975,0.025]|       0.0|\n",
      "|[3.78316286708577...|    1|    [0.0,2.0]|    [0.0,1.0]|       1.0|\n",
      "|[4.11944401082673...|    1|   [0.0,26.0]|    [0.0,1.0]|       1.0|\n",
      "+--------------------+-----+-------------+-------------+----------+\n",
      "only showing top 10 rows\n",
      "\n"
     ]
    }
   ],
   "source": [
    "from pyspark.ml.classification import DecisionTreeClassifier\n",
    "\n",
    "\n",
    "dt = DecisionTreeClassifier( labelCol = 'label')\n",
    "\n",
    "dt_model = dt.fit(trainSet)\n",
    "dt_result = dt_model.transform(testSet)\n",
    "dt_result.show(10)\n",
    "\n",
    "\n"
   ]
  },
  {
   "cell_type": "markdown",
   "id": "80eb5cdc",
   "metadata": {},
   "source": [
    "### evaluation"
   ]
  },
  {
   "cell_type": "code",
   "execution_count": 16,
   "id": "fb605d5b",
   "metadata": {},
   "outputs": [
    {
     "name": "stdout",
     "output_type": "stream",
     "text": [
      "Performance Arbre de choix\n",
      "Accuracy = 0.80\n",
      "Sensibilite = 0.71\n",
      "Specificite = 0.85\n",
      "Precision = 0.73\n",
      "AUC=0.85\n"
     ]
    }
   ],
   "source": [
    "print(\"Performance Arbre de choix\")\n",
    "\n",
    "dt_eval = BinaryClassificationEvaluator(rawPredictionCol=\"probability\", labelCol=\"label\")\n",
    "dt_eval2= MulticlassClassificationEvaluator(predictionCol=\"prediction\", labelCol=\"label\")\n",
    "dt_AUC  = dt_eval.evaluate(dt_result)\n",
    "dt_ACC  = dt_eval2.evaluate(dt_result, {dt_eval2.metricName:\"accuracy\"})\n",
    "\n",
    "#ROC Grafik\n",
    "PredAndLabels           = dt_result.select(\"probability\", \"label\")\n",
    "PredAndLabels_collect   = PredAndLabels.collect()\n",
    "PredAndLabels_list      = [(float(i[0][0]), 1.0-float(i[1])) for i in PredAndLabels_collect]\n",
    "PredAndLabels           = sc.parallelize(PredAndLabels_list)\n",
    "\n",
    "\n",
    "\n",
    "\n",
    "\n",
    "\n",
    "\n",
    "#confusion matrix\n",
    "cm_dt_result = dt_result.crosstab(\"prediction\", \"label\")\n",
    "cm_dt_result = cm_dt_result.toPandas()\n",
    "cm_dt_result\n",
    "\n",
    "#calculate accuracy, sensitivity, specificity and precision\n",
    "TP = cm_dt_result[\"1\"][0]\n",
    "FP = cm_dt_result[\"0\"][0]\n",
    "TN = cm_dt_result[\"0\"][1]\n",
    "FN = cm_dt_result[\"1\"][1]\n",
    "Accuracy = (TP+TN)/(TP+FP+TN+FN)\n",
    "Sensitivity = TP/(TP+FN)\n",
    "Specificity = TN/(TN+FP)\n",
    "Precision = TP/(TP+FP)\n",
    "\n",
    "# Area under ROC\n",
    "\n",
    "print (\"Accuracy = %0.2f\" %Accuracy )\n",
    "print (\"Sensibilite = %0.2f\" %Sensitivity )\n",
    "print (\"Specificite = %0.2f\" %Specificity )\n",
    "print (\"Precision = %0.2f\" %Precision )\n",
    "print(\"AUC=%.2f\" % AUC)\n"
   ]
  },
  {
   "cell_type": "markdown",
   "id": "33301ba4",
   "metadata": {},
   "source": [
    "# FORET Aleatoire"
   ]
  },
  {
   "cell_type": "code",
   "execution_count": 17,
   "id": "86d95c6c",
   "metadata": {},
   "outputs": [
    {
     "name": "stdout",
     "output_type": "stream",
     "text": [
      "+--------------------+-----+--------------------+--------------------+----------+\n",
      "|            features|label|       rawPrediction|         probability|prediction|\n",
      "+--------------------+-----+--------------------+--------------------+----------+\n",
      "|[3.36281143740957...|    0|[19.3140118538113...|[0.96570059269056...|       0.0|\n",
      "|[3.36281143740957...|    0|[19.3787357998161...|[0.96893678999080...|       0.0|\n",
      "|[3.53095200928005...|    1|[4.16910680037262...|[0.20845534001863...|       1.0|\n",
      "|[3.69909258115053...|    0|[17.4116209715669...|[0.87058104857834...|       0.0|\n",
      "|[3.78316286708577...|    0|[19.3430409258258...|[0.96715204629129...|       0.0|\n",
      "|[3.78316286708577...|    1|[8.68191846326558...|[0.43409592316327...|       1.0|\n",
      "|[3.78316286708577...|    0|[16.8290912216426...|[0.84145456108213...|       0.0|\n",
      "|[3.78316286708577...|    1|[19.1036573438072...|[0.95518286719036...|       0.0|\n",
      "|[3.78316286708577...|    1|[11.9255656748314...|[0.59627828374157...|       0.0|\n",
      "|[4.11944401082673...|    1|[5.29648775275357...|[0.26482438763767...|       1.0|\n",
      "+--------------------+-----+--------------------+--------------------+----------+\n",
      "only showing top 10 rows\n",
      "\n"
     ]
    }
   ],
   "source": [
    "from pyspark.ml.classification import RandomForestClassifier\n",
    "rf = RandomForestClassifier(featuresCol = 'features', labelCol = 'label')\n",
    "rf_model = rf.fit(trainSet)\n",
    "rf_result = rf_model.transform(testSet)\n",
    "rf_result.show(10)\n"
   ]
  },
  {
   "cell_type": "markdown",
   "id": "c6600aff",
   "metadata": {},
   "source": [
    "### evaluation"
   ]
  },
  {
   "cell_type": "code",
   "execution_count": 18,
   "id": "82b70f68",
   "metadata": {},
   "outputs": [
    {
     "name": "stdout",
     "output_type": "stream",
     "text": [
      "Performance Foret aleatoire\n",
      "Accuracy = 0.83\n",
      "Sensibilite = 0.68\n",
      "Specificite = 0.92\n",
      "Precision = 0.84\n",
      "AUC=0.85\n"
     ]
    }
   ],
   "source": [
    "\n",
    "rf_eval = BinaryClassificationEvaluator(rawPredictionCol=\"probability\", labelCol=\"label\")\n",
    "rf_eval2= MulticlassClassificationEvaluator(predictionCol=\"prediction\", labelCol=\"label\")\n",
    "rf_AUC  = rf_eval.evaluate(rf_result)\n",
    "rf_ACC  = rf_eval2.evaluate(rf_result, {rf_eval2.metricName:\"accuracy\"})\n",
    "\n",
    "print(\"Performance Foret aleatoire\")\n",
    "\n",
    "\n",
    "#ROC Grafik\n",
    "PredAndLabels           = rf_result.select(\"probability\", \"label\")\n",
    "PredAndLabels_collect   = PredAndLabels.collect()\n",
    "PredAndLabels_list      = [(float(i[0][0]), 1.0-float(i[1])) for i in PredAndLabels_collect]\n",
    "PredAndLabels           = sc.parallelize(PredAndLabels_list)\n",
    "\n",
    "\n",
    "\n",
    "#Confusion Matrix\n",
    "cm_rf_result = rf_result.crosstab(\"prediction\", \"label\")\n",
    "cm_rf_result = cm_rf_result.toPandas()\n",
    "cm_rf_result\n",
    "\n",
    "#calculate accurary,sensitivity, specificity and precision \n",
    "TP = cm_rf_result[\"1\"][0]\n",
    "FP = cm_rf_result[\"0\"][0]\n",
    "TN = cm_rf_result[\"0\"][1]\n",
    "FN = cm_rf_result[\"1\"][1]\n",
    "Accuracy = (TP+TN)/(TP+FP+TN+FN)\n",
    "Sensitivity = TP/(TP+FN)\n",
    "Specificity = TN/(TN+FP)\n",
    "Precision = TP/(TP+FP)\n",
    "\n",
    "print (\"Accuracy = %0.2f\" %Accuracy )\n",
    "print (\"Sensibilite = %0.2f\" %Sensitivity )\n",
    "print (\"Specificite = %0.2f\" %Specificity )\n",
    "print (\"Precision = %0.2f\" %Precision )\n",
    "print(\"AUC=%.2f\" % AUC)\n"
   ]
  },
  {
   "cell_type": "markdown",
   "id": "f04d8abc",
   "metadata": {},
   "source": [
    "# Arbre Degrade"
   ]
  },
  {
   "cell_type": "code",
   "execution_count": 19,
   "id": "39d2610f",
   "metadata": {},
   "outputs": [
    {
     "name": "stdout",
     "output_type": "stream",
     "text": [
      "+--------------------+-----+--------------------+--------------------+----------+\n",
      "|            features|label|       rawPrediction|         probability|prediction|\n",
      "+--------------------+-----+--------------------+--------------------+----------+\n",
      "|[3.36281143740957...|    0|[1.18739932900492...|[0.91488527776030...|       0.0|\n",
      "|[3.36281143740957...|    0|[1.28967040935923...|[0.92952009672739...|       0.0|\n",
      "|[3.53095200928005...|    1|[-1.3208230559613...|[0.06650576746613...|       1.0|\n",
      "|[3.69909258115053...|    0|[0.25241884644702...|[0.62359553166594...|       0.0|\n",
      "|[3.78316286708577...|    0|[1.31831329479011...|[0.93318192788276...|       0.0|\n",
      "|[3.78316286708577...|    1|[0.11096350679783...|[0.55525515560635...|       0.0|\n",
      "|[3.78316286708577...|    0|[1.32541888295798...|[0.93406260698796...|       0.0|\n",
      "|[3.78316286708577...|    1|[1.11584430521440...|[0.90305928603962...|       0.0|\n",
      "|[3.78316286708577...|    1|[-0.7665595000061...|[0.17753779709928...|       1.0|\n",
      "|[4.11944401082673...|    1|[-1.3402982950048...|[0.06412806235367...|       1.0|\n",
      "+--------------------+-----+--------------------+--------------------+----------+\n",
      "only showing top 10 rows\n",
      "\n"
     ]
    }
   ],
   "source": [
    "from pyspark.ml.classification import GBTClassifier\n",
    "\n",
    "gbt = GBTClassifier(labelCol=\"label\", featuresCol=\"features\", maxIter=10)\n",
    "gbt_model = gbt.fit(trainSet)\n",
    "gbt_result = gbt_model.transform(testSet)\n",
    "gbt_result.show(10)\n",
    "\n",
    "\n"
   ]
  },
  {
   "cell_type": "markdown",
   "id": "ae194038",
   "metadata": {},
   "source": [
    "### evaluation"
   ]
  },
  {
   "cell_type": "code",
   "execution_count": 128,
   "id": "1da16b97",
   "metadata": {},
   "outputs": [
    {
     "name": "stdout",
     "output_type": "stream",
     "text": [
      "Performance Arbre degrade\n",
      "Accuracy = 0.80\n",
      "Sensibilite = 0.58\n",
      "Specificite = 0.87\n",
      "Precision = 0.55\n",
      "AUC=0.81\n"
     ]
    }
   ],
   "source": [
    "gbt_eval = BinaryClassificationEvaluator(rawPredictionCol=\"probability\",labelCol=\"label\")\n",
    "gbt_eval2= MulticlassClassificationEvaluator(predictionCol=\"prediction\", labelCol=\"label\")\n",
    "gbt_AUC  = gbt_eval.evaluate(gbt_result)\n",
    "gbt_ACC  = gbt_eval2.evaluate(gbt_result, {gbt_eval2.metricName:\"accuracy\"})\n",
    "\n",
    "print(\"Performance Arbre degrade\")\n",
    "\n",
    "\n",
    "#ROC Grafik\n",
    "PredAndLabels           = gbt_result.select(\"probability\", \"label\")\n",
    "PredAndLabels_collect   = PredAndLabels.collect()\n",
    "PredAndLabels_list      = [(float(i[0][0]), 1.0-float(i[1])) for i in PredAndLabels_collect]\n",
    "PredAndLabels           = sc.parallelize(PredAndLabels_list)\n",
    "\n",
    "\n",
    "#Confusion Matrix\n",
    "cm_gbt_result = gbt_result.crosstab(\"prediction\", \"label\")\n",
    "cm_gbt_result = cm_gbt_result.toPandas()\n",
    "cm_gbt_result\n",
    "\n",
    "#calculate accuracy, sensitivity, specificity and precision\n",
    "TP = cm_gbt_result[\"1\"][0]\n",
    "FP = cm_gbt_result[\"0\"][0]\n",
    "TN = cm_gbt_result[\"0\"][1]\n",
    "FN = cm_gbt_result[\"1\"][1]\n",
    "Accuracy = (TP+TN)/(TP+FP+TN+FN)\n",
    "Sensitivity = TP/(TP+FN)\n",
    "Specificity = TN/(TN+FP)\n",
    "Precision = TP/(TP+FP)\n",
    "\n",
    "print (\"Accuracy = %0.2f\" %Accuracy )\n",
    "print (\"Sensibilite = %0.2f\" %Sensitivity )\n",
    "print (\"Specificite = %0.2f\" %Specificity )\n",
    "print (\"Precision = %0.2f\" %Precision )\n",
    "\n",
    "print(\"AUC=%.2f\" % AUC)\n"
   ]
  },
  {
   "cell_type": "markdown",
   "id": "49d852ed",
   "metadata": {},
   "source": [
    "# Hyper-tuning"
   ]
  },
  {
   "cell_type": "code",
   "execution_count": 20,
   "id": "9a4bc9a4",
   "metadata": {},
   "outputs": [
    {
     "name": "stdout",
     "output_type": "stream",
     "text": [
      "+--------------------+-----+--------------------+--------------------+----------+\n",
      "|            features|label|       rawPrediction|         probability|prediction|\n",
      "+--------------------+-----+--------------------+--------------------+----------+\n",
      "|[3.36281143740957...|    0|[56.9237665643739...|[0.94872944273956...|       0.0|\n",
      "|[3.36281143740957...|    0|[56.9980560936029...|[0.94996760156004...|       0.0|\n",
      "|[3.53095200928005...|    1|[18.0044821458895...|[0.30007470243149...|       1.0|\n",
      "|[3.69909258115053...|    0|[47.8011800639543...|[0.79668633439923...|       0.0|\n",
      "|[3.78316286708577...|    0|[55.1139876800055...|[0.91856646133342...|       0.0|\n",
      "+--------------------+-----+--------------------+--------------------+----------+\n",
      "only showing top 5 rows\n",
      "\n",
      " Performance apres tuning\n",
      "Accuracy = 0.83\n",
      "Sensibilite = 0.68\n",
      "Specificite = 0.92\n",
      "Precision = 0.84\n",
      "AUC=0.8524\n"
     ]
    }
   ],
   "source": [
    "from pyspark.ml.tuning import CrossValidator, ParamGridBuilder \n",
    "\n",
    "rf_hyper= RandomForestClassifier(featuresCol='features', labelCol=\"label\")\n",
    "\n",
    "# Hyper-Parameter Tuning\n",
    "paramGrid_rf = ParamGridBuilder() \\\n",
    "    .addGrid(rf.maxDepth, [5,10]) \\\n",
    "    .addGrid(rf_hyper.numTrees, [40, 60, 80, 100]) \\\n",
    "    .build()\n",
    "crossval_rf = CrossValidator(estimator=rf_hyper,\n",
    "                             estimatorParamMaps=paramGrid_rf,\n",
    "                             evaluator=BinaryClassificationEvaluator(),\n",
    "                             numFolds=3) \n",
    "#fit model to data train\n",
    "rf_model_hyper=crossval_rf.fit(trainSet)\n",
    "\n",
    "#transfrom model to data test\n",
    "rf_result_hyper = rf_model_hyper.transform(testSet)\n",
    "\n",
    "#view id, label, prediction and probability from result of modelling\n",
    "rf_result_hyper.show(5)\n",
    "\n",
    "#Random Forest With Hyper-Parameter Evaluation\n",
    "#Evaluate model by calculating accuracy and area under curve (AUC)\n",
    "rf_hyper_eval = BinaryClassificationEvaluator(rawPredictionCol=\"probability\", labelCol=\"label\")\n",
    "rf_hyper_eval2= MulticlassClassificationEvaluator(predictionCol=\"prediction\", labelCol=\"label\")\n",
    "rf_hyper_AUC  = rf_hyper_eval.evaluate(rf_result_hyper)\n",
    "rf_hyper_ACC  = rf_hyper_eval2.evaluate(rf_result_hyper, {rf_hyper_eval2.metricName:\"accuracy\"})\n",
    "\n",
    "print(\" Performance apres tuning\")\n",
    "\n",
    "\n",
    "#ROC Grafik\n",
    "PredAndLabels           = rf_result_hyper.select(\"probability\", \"label\")\n",
    "PredAndLabels_collect   = PredAndLabels.collect()\n",
    "PredAndLabels_list      = [(float(i[0][0]), 1.0-float(i[1])) for i in PredAndLabels_collect]\n",
    "PredAndLabels           = sc.parallelize(PredAndLabels_list)\n",
    "\n",
    "\n",
    "\n",
    "\n",
    "\n",
    "\n",
    "#Confusion Matrix\n",
    "cm_rf_result_hyper = rf_result_hyper.crosstab(\"prediction\", \"label\")\n",
    "cm_rf_result_hyper = cm_rf_result_hyper.toPandas()\n",
    "cm_rf_result_hyper\n",
    "\n",
    "#calculate accuracy, sensitivity, specificity and precision\n",
    "TP = cm_rf_result_hyper[\"1\"][0]\n",
    "FP = cm_rf_result_hyper[\"0\"][0]\n",
    "TN = cm_rf_result_hyper[\"0\"][1]\n",
    "FN = cm_rf_result_hyper[\"1\"][1]\n",
    "Accuracy = (TP+TN)/(TP+FP+TN+FN)\n",
    "Sensitivity = TP/(TP+FN)\n",
    "Specificity = TN/(TN+FP)\n",
    "Precision = TP/(TP+FP)\n",
    "\n",
    "print (\"Accuracy = %0.2f\" %Accuracy )\n",
    "print (\"Sensibilite = %0.2f\" %Sensitivity )\n",
    "print (\"Specificite = %0.2f\" %Specificity )\n",
    "print (\"Precision = %0.2f\" %Precision )\n",
    "\n",
    "print(\"AUC=%.4f\" % AUC)\n"
   ]
  },
  {
   "cell_type": "code",
   "execution_count": null,
   "id": "bc899df1",
   "metadata": {},
   "outputs": [],
   "source": []
  }
 ],
 "metadata": {
  "kernelspec": {
   "display_name": "Python 3",
   "language": "python",
   "name": "python3"
  },
  "language_info": {
   "codemirror_mode": {
    "name": "ipython",
    "version": 3
   },
   "file_extension": ".py",
   "mimetype": "text/x-python",
   "name": "python",
   "nbconvert_exporter": "python",
   "pygments_lexer": "ipython3",
   "version": "3.8.8"
  }
 },
 "nbformat": 4,
 "nbformat_minor": 5
}
